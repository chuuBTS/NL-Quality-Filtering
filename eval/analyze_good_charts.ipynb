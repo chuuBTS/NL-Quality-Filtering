{
 "cells": [
  {
   "cell_type": "code",
   "execution_count": 8,
   "metadata": {},
   "outputs": [
    {
     "name": "stdout",
     "output_type": "stream",
     "text": [
      "good_charts_count的分布情况:\n",
      "good_charts_count\n",
      "0    38\n",
      "1    69\n",
      "2    45\n",
      "3     4\n",
      "4    57\n",
      "Name: count, dtype: int64\n",
      "\n",
      "good_charts_count大于1的总数: 106\n"
     ]
    }
   ],
   "source": [
    "import pandas as pd\n",
    "\n",
    "# 读取CSV文件\n",
    "df = pd.read_csv('./annotated_nl_charts_pairs.csv')\n",
    "\n",
    "# 统计good_charts_count的分布情况\n",
    "distribution = df['good_charts_count'].value_counts().sort_index()\n",
    "\n",
    "# 打印分布结果\n",
    "print(\"good_charts_count的分布情况:\")\n",
    "print(distribution)\n",
    "\n",
    "# 统计good_charts_count大于1的总数\n",
    "count_greater_than_one = len(df[df['good_charts_count'] > 1])\n",
    "print(f\"\\ngood_charts_count大于1的总数: {count_greater_than_one}\")\n"
   ]
  },
  {
   "cell_type": "code",
   "execution_count": 10,
   "metadata": {},
   "outputs": [
    {
     "name": "stdout",
     "output_type": "stream",
     "text": [
      "good_generated_chart_list长度的分布情况:\n",
      "2    45\n",
      "3     4\n",
      "4    57\n",
      "Name: count, dtype: int64\n"
     ]
    }
   ],
   "source": [
    "import json\n",
    "\n",
    "# 读取test_data.json文件\n",
    "with open('./test_data.json', 'r', encoding='utf-8') as f:\n",
    "    test_data = json.load(f)\n",
    "\n",
    "# 统计每个文件中good_generated_chart_list的长度\n",
    "chart_list_lengths = [len(data['good_generated_chart_list']) for data in test_data.values()]\n",
    "\n",
    "# 计算长度分布\n",
    "length_distribution = pd.Series(chart_list_lengths).value_counts().sort_index()\n",
    "\n",
    "print(\"good_generated_chart_list长度的分布情况:\")\n",
    "print(length_distribution)\n"
   ]
  },
  {
   "cell_type": "code",
   "execution_count": 11,
   "metadata": {},
   "outputs": [
    {
     "name": "stdout",
     "output_type": "stream",
     "text": [
      "good_generated_chart_list长度为5的文件:\n"
     ]
    }
   ],
   "source": [
    "# 找出good_generated_chart_list长度为5的文件\n",
    "files_with_five_charts = [filename for filename, data in test_data.items() \n",
    "                         if len(data['good_generated_chart_list']) == 5]\n",
    "\n",
    "print(\"good_generated_chart_list长度为5的文件:\")\n",
    "for filename in files_with_five_charts:\n",
    "    print(filename)\n"
   ]
  },
  {
   "cell_type": "code",
   "execution_count": 13,
   "metadata": {},
   "outputs": [
    {
     "name": "stdout",
     "output_type": "stream",
     "text": [
      "{'mark': False, 'field': True, 'filter': True, 'aggregate': True, 'sort': True, 'bin': True, 'overall': False}\n"
     ]
    }
   ],
   "source": [
    "from deepdiff import DeepDiff\n",
    "\n",
    "def compare_vegalite(vl1, vl2):\n",
    "    # 只对以下字段进行比较\n",
    "    keys_to_compare = [\"mark\", \"encoding\", \"transform\"]\n",
    "    sub_vl1 = {key: vl1.get(key) for key in keys_to_compare}\n",
    "    sub_vl2 = {key: vl2.get(key) for key in keys_to_compare}\n",
    "    \n",
    "    # 比较字段的细节\n",
    "    diff = DeepDiff(sub_vl1, sub_vl2, ignore_order=True)\n",
    "    \n",
    "    # 判断各字段的一致性\n",
    "    consistency = {\n",
    "        \"mark\": vl1.get(\"mark\") == vl2.get(\"mark\"),\n",
    "        \"field\": vl1.get(\"encoding\") == vl2.get(\"encoding\"),\n",
    "        \"filter\": \"transform\" not in diff or not any(\"filter\" in d for d in diff.get(\"values_changed\", {})),\n",
    "        \"aggregate\": \"values_changed\" not in diff or \"aggregate\" not in diff.get(\"values_changed\", {}),\n",
    "        \"sort\": \"values_changed\" not in diff or \"sort\" not in diff.get(\"values_changed\", {}),\n",
    "        \"bin\": \"values_changed\" not in diff or \"bin\" not in diff.get(\"values_changed\", {}),\n",
    "    }\n",
    "    \n",
    "    # 判断 overall 一致性\n",
    "    consistency[\"overall\"] = all(consistency.values())\n",
    "    return consistency\n",
    "\n",
    "# 示例 JSON\n",
    "vl1 = {\n",
    "    \"mark\": \"line\",\n",
    "    \"encoding\": {\n",
    "        \"x\": {\"field\": \"year\", \"type\": \"temporal\"},\n",
    "        \"y\": {\"field\": \"gdpPercap\", \"type\": \"quantitative\", \"aggregate\": \"sum\"},\n",
    "        \"color\": {\"field\": \"country\", \"type\": \"nominal\"}\n",
    "    },\n",
    "    \"transform\": [\n",
    "        {\"filter\": {\"field\": \"country\", \"oneOf\": [\"Iceland\", \"Norway\"]}},\n",
    "        {\"filter\": {\"field\": \"year\", \"range\": [{\"year\": 1952}, {\"year\": 2017}]}}\n",
    "    ]\n",
    "}\n",
    "\n",
    "vl2 = {\n",
    "    \"mark\": \"area\",\n",
    "    \"encoding\": {\n",
    "        \"x\": {\"field\": \"year\", \"type\": \"temporal\"},\n",
    "        \"y\": {\"field\": \"gdpPercap\", \"type\": \"quantitative\", \"aggregate\": \"sum\"},\n",
    "        \"color\": {\"field\": \"country\", \"type\": \"nominal\"}\n",
    "    },\n",
    "    \"transform\": [\n",
    "        {\"filter\": {\"field\": \"country\", \"oneOf\": [\"Norway\"]}},\n",
    "        {\"filter\": {\"field\": \"year\", \"range\": [{\"year\": 1952}, {\"year\": 2017}]}}\n",
    "    ]\n",
    "}\n",
    "\n",
    "# 对比结果\n",
    "result = compare_vegalite(vl1, vl2)\n",
    "print(result)\n",
    "# 输出:\n",
    "# {\n",
    "#   'mark': False,\n",
    "#   'field': True,\n",
    "#   'filter': True,\n",
    "#   'aggregate': True,\n",
    "#   'sort': True,\n",
    "#   'bin': True,\n",
    "#   'overall': False\n",
    "# }"
   ]
  },
  {
   "cell_type": "code",
   "execution_count": 7,
   "metadata": {},
   "outputs": [
    {
     "name": "stdout",
     "output_type": "stream",
     "text": [
      "merged_result_gpt35.json 文件中包含 105 条数据\n"
     ]
    }
   ],
   "source": [
    "# 加载并输出文件长度\n",
    "import json\n",
    "\n",
    "with open('result/merged_result_gpt35.json', 'r', encoding='utf-8') as f:\n",
    "    data = json.load(f)\n",
    "    \n",
    "print(f\"merged_result_gpt35.json 文件中包含 {len(data)} 条数据\")\n"
   ]
  },
  {
   "cell_type": "code",
   "execution_count": null,
   "metadata": {},
   "outputs": [],
   "source": []
  }
 ],
 "metadata": {
  "kernelspec": {
   "display_name": "generate-nl-env",
   "language": "python",
   "name": "python3"
  },
  "language_info": {
   "codemirror_mode": {
    "name": "ipython",
    "version": 3
   },
   "file_extension": ".py",
   "mimetype": "text/x-python",
   "name": "python",
   "nbconvert_exporter": "python",
   "pygments_lexer": "ipython3",
   "version": "3.8.20"
  }
 },
 "nbformat": 4,
 "nbformat_minor": 2
}
